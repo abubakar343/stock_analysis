{
 "cells": [
  {
   "cell_type": "code",
   "execution_count": 32,
   "id": "98efb895",
   "metadata": {},
   "outputs": [
    {
     "name": "stdout",
     "output_type": "stream",
     "text": [
      "Attributes  Adj Close              Close               High              \\\n",
      "Symbols             F        TSLA      F        TSLA      F        TSLA   \n",
      "Date                                                                      \n",
      "2021-04-30  11.347950  709.440002  11.54  709.440002  11.54  715.469971   \n",
      "2021-05-03  11.436452  684.900024  11.63  684.900024  11.68  706.000000   \n",
      "2021-05-04  11.220114  673.599976  11.41  673.599976  11.55  683.450012   \n",
      "2021-05-05  11.416785  670.940002  11.61  670.940002  11.64  685.299988   \n",
      "2021-05-06  11.544621  663.539978  11.74  663.539978  11.76  681.020020   \n",
      "\n",
      "Attributes    Low               Open                  Volume              \n",
      "Symbols         F        TSLA      F        TSLA           F        TSLA  \n",
      "Date                                                                      \n",
      "2021-04-30  11.33  666.140015  11.36  667.590027  90786500.0  40758700.0  \n",
      "2021-05-03  11.43  680.500000  11.56  703.799988  61987300.0  27043100.0  \n",
      "2021-05-04  11.23  657.700012  11.53  678.940002  71007700.0  29739300.0  \n",
      "2021-05-05  11.40  667.340027  11.50  681.059998  64495500.0  21901900.0  \n",
      "2021-05-06  11.48  650.000000  11.55  680.760010  50032800.0  27784600.0  \n"
     ]
    }
   ],
   "source": [
    "import numpy as np\n",
    "import pandas as pd\n",
    "import matplotlib.pyplot as plt\n",
    "import seaborn as sns\n",
    "from pandas_datareader import data as wb\n",
    "\n",
    "stock_tickers = [\"F\",\"TSLA\"]\n",
    "stock_prices = wb.get_data_yahoo(stock_tickers,start = \"2021-05-01\",end = \"2022-05-07\")\n",
    "print(stock_prices.head())"
   ]
  },
  {
   "cell_type": "code",
   "execution_count": 37,
   "id": "4e1b7246",
   "metadata": {},
   "outputs": [
    {
     "data": {
      "text/plain": [
       "<Figure size 432x288 with 0 Axes>"
      ]
     },
     "metadata": {},
     "output_type": "display_data"
    },
    {
     "data": {
      "image/png": "[encoded data removed]",
      "text/plain": [
       "<Figure size 432x288 with 1 Axes>"
      ]
     },
     "metadata": {
      "needs_background": "light"
     },
     "output_type": "display_data"
    }
   ],
   "source": [
    "stock_monthly_returns = stock_prices['Adj Close'].resample('M').ffill().fillna().pct_change()\n",
    "fig = plt.figure()\n",
    "(stock_monthly_returns + 1).cumprod().plot()\n",
    "plt.show()"
   ]
  },
  {
   "cell_type": "code",
   "execution_count": 45,
   "id": "8fe5ffd1",
   "metadata": {},
   "outputs": [
    {
     "name": "stdout",
     "output_type": "stream",
     "text": [
      "Symbols            F      TSLA\n",
      "Date                          \n",
      "2021-04-30       NaN       NaN\n",
      "2021-05-31  0.259099 -0.118713\n",
      "2021-06-30  0.022712  0.087137\n",
      "2021-07-31 -0.061238  0.011034\n",
      "2021-08-31 -0.065950  0.070605\n",
      "2021-09-30  0.086723  0.054042\n",
      "2021-10-31  0.206215  0.436530\n",
      "2021-11-30  0.129194  0.027612\n",
      "2021-12-31  0.082335 -0.076855\n",
      "2022-01-31 -0.017604 -0.113609\n",
      "2022-02-28 -0.134975 -0.070768\n",
      "2022-03-31 -0.037016  0.238009\n",
      "2022-04-30 -0.157054 -0.191945\n",
      "2022-05-31  0.003531 -0.005868\n"
     ]
    }
   ],
   "source": [
    "stock_monthly_returns = stock_prices['Adj Close'].resample('M').ffill().fillna(0).pct_change()\n",
    "print(stock_monthly_returns)"
   ]
  },
  {
   "cell_type": "code",
   "execution_count": 38,
   "id": "f4d63b79",
   "metadata": {},
   "outputs": [
    {
     "name": "stdout",
     "output_type": "stream",
     "text": [
      "Symbols\n",
      "F       0.024305\n",
      "TSLA    0.026709\n",
      "dtype: float64\n"
     ]
    }
   ],
   "source": [
    "print(stock_monthly_returns.mean())"
   ]
  },
  {
   "cell_type": "code",
   "execution_count": 39,
   "id": "101803c7",
   "metadata": {},
   "outputs": [
    {
     "name": "stdout",
     "output_type": "stream",
     "text": [
      "Symbols\n",
      "F       0.124553\n",
      "TSLA    0.165607\n",
      "dtype: float64\n"
     ]
    }
   ],
   "source": [
    "print(stock_monthly_returns.std())"
   ]
  },
  {
   "cell_type": "code",
   "execution_count": 40,
   "id": "2b0ab747",
   "metadata": {},
   "outputs": [
    {
     "name": "stdout",
     "output_type": "stream",
     "text": [
      "Symbols\n",
      "F       0.015513\n",
      "TSLA    0.027426\n",
      "dtype: float64\n"
     ]
    }
   ],
   "source": [
    "print(stock_monthly_returns.var())"
   ]
  },
  {
   "cell_type": "code",
   "execution_count": 46,
   "id": "fc27636e",
   "metadata": {},
   "outputs": [
    {
     "name": "stdout",
     "output_type": "stream",
     "text": [
      "Symbols         F      TSLA\n",
      "Symbols                    \n",
      "F        1.000000  0.332341\n",
      "TSLA     0.332341  1.000000\n"
     ]
    }
   ],
   "source": [
    "print(stock_monthly_returns.corr())"
   ]
  },
  {
   "cell_type": "code",
   "execution_count": 48,
   "id": "6c34f23c",
   "metadata": {},
   "outputs": [
    {
     "name": "stdout",
     "output_type": "stream",
     "text": [
      "Symbols         F      TSLA\n",
      "Symbols                    \n",
      "F        0.015513  0.006855\n",
      "TSLA     0.006855  0.027426\n"
     ]
    }
   ],
   "source": [
    "print(stock_monthly_returns.cov())"
   ]
  },
  {
   "cell_type": "code",
   "execution_count": null,
   "id": "54d2b237",
   "metadata": {},
   "outputs": [],
   "source": []
  }
 ],
 "metadata": {
  "kernelspec": {
   "display_name": "Python 3 (ipykernel)",
   "language": "python",
   "name": "python3"
  },
  "language_info": {
   "codemirror_mode": {
    "name": "ipython",
    "version": 3
   },
   "file_extension": ".py",
   "mimetype": "text/x-python",
   "name": "python",
   "nbconvert_exporter": "python",
   "pygments_lexer": "ipython3",
   "version": "3.9.7"
  }
 },
 "nbformat": 4,
 "nbformat_minor": 5
}
